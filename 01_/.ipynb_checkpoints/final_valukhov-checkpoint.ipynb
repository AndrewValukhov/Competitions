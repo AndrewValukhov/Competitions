{
 "cells": [
  {
   "cell_type": "code",
   "execution_count": 1,
   "id": "96f8a1f6",
   "metadata": {},
   "outputs": [],
   "source": [
    "import pandas as pd\n",
    "import numpy as np\n",
    "from sklearn.metrics import recall_score\n",
    "from sklearn.preprocessing import StandardScaler, OrdinalEncoder\n",
    "from sklearn.ensemble import RandomForestClassifier\n",
    "from sklearn.model_selection import StratifiedKFold\n",
    "from sklearn.multioutput import ClassifierChain\n",
    "%config InlineBackend.figure_format = 'retina'"
   ]
  },
  {
   "cell_type": "markdown",
   "id": "cb8e1aff",
   "metadata": {},
   "source": [
    "# Cоздание новых и корректировка имеющихся признаков"
   ]
  },
  {
   "cell_type": "code",
   "execution_count": 2,
   "id": "c1e7cabf",
   "metadata": {},
   "outputs": [],
   "source": [
    "train = pd.read_csv('train.csv')\n",
    "test = pd.read_csv('test_dataset_test.csv')"
   ]
  },
  {
   "cell_type": "code",
   "execution_count": 3,
   "id": "0d2afab7",
   "metadata": {},
   "outputs": [],
   "source": [
    "train.drop(columns=['ID_y'], inplace=True)"
   ]
  },
  {
   "cell_type": "markdown",
   "id": "fce13baa",
   "metadata": {},
   "source": [
    "Проверим, какие признаки отсутсвуют в тесте"
   ]
  },
  {
   "cell_type": "code",
   "execution_count": 4,
   "id": "33d3c07a",
   "metadata": {},
   "outputs": [
    {
     "data": {
      "text/plain": [
       "{'Артериальная гипертензия',\n",
       " 'ОНМК',\n",
       " 'Прочие заболевания сердца',\n",
       " 'Сердечная недостаточность',\n",
       " 'Стенокардия, ИБС, инфаркт миокарда'}"
      ]
     },
     "execution_count": 4,
     "metadata": {},
     "output_type": "execute_result"
    }
   ],
   "source": [
    "missing_columns = set(train.columns) - set(test.columns)\n",
    "missing_columns"
   ]
  },
  {
   "cell_type": "markdown",
   "id": "f275a188",
   "metadata": {},
   "source": [
    "Это только таргеты. Исследуем их"
   ]
  },
  {
   "cell_type": "code",
   "execution_count": 5,
   "id": "bf764889",
   "metadata": {},
   "outputs": [
    {
     "name": "stdout",
     "output_type": "stream",
     "text": [
      "Сердечная недостаточность болеют ---> 96\n",
      "Стенокардия, ИБС, инфаркт миокарда болеют ---> 117\n",
      "Прочие заболевания сердца болеют ---> 86\n",
      "Артериальная гипертензия болеют ---> 446\n",
      "ОНМК болеют ---> 41\n",
      "Всего, имеющих диагноз: 786\n"
     ]
    }
   ],
   "source": [
    "sum_ill = 0\n",
    "for col in missing_columns:\n",
    "    print(col, 'болеют --->', train[col].value_counts()[1])\n",
    "    sum_ill += train[col].value_counts()[1]\n",
    "print('Всего, имеющих диагноз:', sum_ill)"
   ]
  },
  {
   "cell_type": "markdown",
   "id": "8e5cdbd4",
   "metadata": {},
   "source": [
    "Как мы видим, только 786 наблюдений имеют какой-либо диагноз. Это значит, что как минимум, около 170 человек в обучающей выборке - здоровые.\n",
    "\n",
    "Проверим, повторяются ли диагнозы у пациентов - сложим целевые значения"
   ]
  },
  {
   "cell_type": "code",
   "execution_count": 6,
   "id": "cb1ae3cc",
   "metadata": {},
   "outputs": [
    {
     "data": {
      "text/plain": [
       "0    445\n",
       "1    320\n",
       "2    117\n",
       "3     60\n",
       "4     13\n",
       "Name: summ, dtype: int64"
      ]
     },
     "execution_count": 6,
     "metadata": {},
     "output_type": "execute_result"
    }
   ],
   "source": [
    "train['summ'] = train['Артериальная гипертензия'] + train['ОНМК'] + train['Сердечная недостаточность'] \\\n",
    "+ train['Стенокардия, ИБС, инфаркт миокарда'] + train['Прочие заболевания сердца']\n",
    "train['summ'].value_counts()"
   ]
  },
  {
   "cell_type": "markdown",
   "id": "b4765325",
   "metadata": {},
   "source": [
    "Как мы видим, около половины выборки - не имеют никакого диагноза, около трети - больны чем-то одним, 117 - имеют два диагноза, 60 - обладатели трех записей и 13 человек собрали 4 варианта диагнозов.\n",
    "\n",
    "Таким образом, изначальная задача многоклассовой классификации трансформируется в задачу бинарной классификации нескольких зависимых переменных."
   ]
  },
  {
   "cell_type": "markdown",
   "id": "d97341f9",
   "metadata": {},
   "source": [
    "Далее будем создавать новые и трансформровать имеющиеся признаки"
   ]
  },
  {
   "cell_type": "code",
   "execution_count": 7,
   "id": "5f00a71f",
   "metadata": {},
   "outputs": [],
   "source": [
    "train['Национальность'] = train['Национальность'].apply(lambda x: x if x == 'Русские' else 'Прочие')\n",
    "test['Национальность'] = test['Национальность'].apply(lambda x: x if x == 'Русские' else 'Прочие')"
   ]
  },
  {
   "cell_type": "code",
   "execution_count": 8,
   "id": "f415db77",
   "metadata": {},
   "outputs": [],
   "source": [
    "train['Семья'] = train['Семья'].apply(lambda x: 'в разводе' if x == 'раздельное проживание (официально не разведены)' else x)\n",
    "test['Семья'] = test['Семья'].apply(lambda x: 'в разводе' if x == 'раздельное проживание (официально не разведены)' else x)"
   ]
  },
  {
   "cell_type": "markdown",
   "id": "31adc480",
   "metadata": {},
   "source": [
    "Признак вдовца может косвенно указывать на возраст"
   ]
  },
  {
   "cell_type": "code",
   "execution_count": 9,
   "id": "e9746e6c",
   "metadata": {},
   "outputs": [],
   "source": [
    "train['widow'] = train['Семья'].apply(lambda x: 'вдовец' if x == 'вдовец / вдова' else 'не вдовец')\n",
    "test['widow'] = test['Семья'].apply(lambda x: 'вдовец' if x == 'вдовец / вдова' else 'не вдовец')"
   ]
  },
  {
   "cell_type": "code",
   "execution_count": 10,
   "id": "254fbd78",
   "metadata": {},
   "outputs": [],
   "source": [
    "train['religion'] = train['Религия'].apply(lambda x: 1 if x == 'Христианство' else 0)\n",
    "test['religion'] = test['Религия'].apply(lambda x: 1 if x == 'Христианство' else 0)"
   ]
  },
  {
   "cell_type": "code",
   "execution_count": 11,
   "id": "d8055b3b",
   "metadata": {},
   "outputs": [],
   "source": [
    "train['Образование'] = train['Образование'].apply(lambda x: '3 - средняя школа / закон.среднее / выше среднего'\n",
    "                                                 if x == '2 - начальная школа' else x)\n",
    "test['Образование'] = test['Образование'].apply(lambda x: '3 - средняя школа / закон.среднее / выше среднего'\n",
    "                                                 if x == '2 - начальная школа' else x)"
   ]
  },
  {
   "cell_type": "markdown",
   "id": "fa3301cc",
   "metadata": {},
   "source": [
    "На отношение пациента к группам риска может влиять то, как он следует указаниями врачей, поэтому создадим категриальные признаки о том, болен ли чем-то серьезным пациент, и если болен, регулярно ли принимает лекарства"
   ]
  },
  {
   "cell_type": "code",
   "execution_count": 12,
   "id": "9ec6c5e0",
   "metadata": {},
   "outputs": [],
   "source": [
    "def non_treat_diab(row):\n",
    "    \n",
    "    diab = row['Сахарный диабет']\n",
    "    treat = row['Регулярный прим лекарственных средств']\n",
    "    \n",
    "    if diab == 1 and treat == 1:\n",
    "        return 'болен и лечится'\n",
    "    elif diab == 1 and treat == 0:\n",
    "        return 'болен и не лечится'\n",
    "    elif diab == 0 and treat == 1:\n",
    "        return 'болен другим и лечится'\n",
    "    else:\n",
    "        return 'здоров'"
   ]
  },
  {
   "cell_type": "code",
   "execution_count": 13,
   "id": "8e81d4b6",
   "metadata": {},
   "outputs": [],
   "source": [
    "train['non_treat_diab'] = train.apply(non_treat_diab, axis=1)\n",
    "test['non_treat_diab'] = test.apply(non_treat_diab, axis=1)"
   ]
  },
  {
   "cell_type": "markdown",
   "id": "f08adee9",
   "metadata": {},
   "source": [
    "Сделаем категориальную переменную о том, соклько сигарет человек выкуривает в день"
   ]
  },
  {
   "cell_type": "code",
   "execution_count": 14,
   "id": "70c26710",
   "metadata": {},
   "outputs": [],
   "source": [
    "def cigs(col):\n",
    "    \n",
    "    if col == 0:\n",
    "        return '0'\n",
    "    elif col < 10:\n",
    "        return '1/2'\n",
    "    elif col <21:\n",
    "        return '1'\n",
    "    else:\n",
    "        return '>1'"
   ]
  },
  {
   "cell_type": "code",
   "execution_count": 15,
   "id": "37c66a4a",
   "metadata": {},
   "outputs": [],
   "source": [
    "train['cigs'] = train['Сигарет в день'].apply(cigs)\n",
    "test['cigs'] = test['Сигарет в день'].apply(cigs)"
   ]
  },
  {
   "cell_type": "markdown",
   "id": "8c222e1e",
   "metadata": {},
   "source": [
    "Узнаем, сколько всего у человека серьезных заболеваний, и принимает ли он лекарства, если серьезно болен"
   ]
  },
  {
   "cell_type": "code",
   "execution_count": 16,
   "id": "4b0d3208",
   "metadata": {},
   "outputs": [],
   "source": [
    "train['Серьезные заболевания'] = train['Сахарный диабет'] + train['Гепатит'] + train['Онкология'] \\\n",
    "                + train['Хроническое заболевание легких'] + train['Бронжиальная астма'] + train['Туберкулез легких ']\n",
    "test['Серьезные заболевания'] = test['Сахарный диабет'] + test['Гепатит'] + test['Онкология'] \\\n",
    "                + test['Хроническое заболевание легких'] + test['Бронжиальная астма'] + test['Туберкулез легких ']"
   ]
  },
  {
   "cell_type": "code",
   "execution_count": 17,
   "id": "4593ee5b",
   "metadata": {},
   "outputs": [],
   "source": [
    "def non_treat_serious(row):\n",
    "    \n",
    "    ser = row['Серьезные заболевания']\n",
    "    treat = row['Регулярный прим лекарственных средств']\n",
    "    \n",
    "    if ser == 1 and treat == 1:\n",
    "        return 'болен и лечится'\n",
    "    elif ser == 1 and treat == 0:\n",
    "        return 'болен и не лечится'\n",
    "    elif ser == 0 and treat == 1:\n",
    "        return 'болен другим и лечится'\n",
    "    else:\n",
    "        return 'здоров'"
   ]
  },
  {
   "cell_type": "code",
   "execution_count": 18,
   "id": "6216e972",
   "metadata": {},
   "outputs": [],
   "source": [
    "train['non_treat_serious'] = train.apply(non_treat_serious, axis=1)\n",
    "test['non_treat_serious'] = test.apply(non_treat_serious, axis=1)"
   ]
  },
  {
   "cell_type": "code",
   "execution_count": 19,
   "id": "07aae554",
   "metadata": {},
   "outputs": [],
   "source": [
    "train['Пол'] = train['Пол'].fillna('Ж')"
   ]
  },
  {
   "cell_type": "markdown",
   "id": "890d0045",
   "metadata": {},
   "source": [
    "Заполним пропуски нулями во вредных привычках"
   ]
  },
  {
   "cell_type": "code",
   "execution_count": 20,
   "id": "1b2d2dab",
   "metadata": {},
   "outputs": [],
   "source": [
    "train[['Возраст курения', 'Сигарет в день', 'Возраст алког']] = train[['Возраст курения', 'Сигарет в день', 'Возраст алког']].fillna(0)\n",
    "train['Частота пасс кур'] = train['Частота пасс кур'].fillna('0')"
   ]
  },
  {
   "cell_type": "code",
   "execution_count": 21,
   "id": "0629e0fb",
   "metadata": {},
   "outputs": [],
   "source": [
    "test[['Возраст курения', 'Сигарет в день', 'Возраст алког']] = test[['Возраст курения', 'Сигарет в день', 'Возраст алког']].fillna(0)\n",
    "test['Частота пасс кур'] = test['Частота пасс кур'].fillna('0')"
   ]
  },
  {
   "cell_type": "markdown",
   "id": "46e5fe4c",
   "metadata": {},
   "source": [
    "Далее получим часы засыпания и час пробуждения, а также время сна в часах"
   ]
  },
  {
   "cell_type": "code",
   "execution_count": 22,
   "id": "9b7b1581",
   "metadata": {},
   "outputs": [],
   "source": [
    "train['wake_hour'] = pd.to_datetime(train['Время пробуждения'], format='%H:%M:%S').dt.hour\n",
    "test['wake_hour'] = pd.to_datetime(test['Время пробуждения'], format='%H:%M:%S').dt.hour"
   ]
  },
  {
   "cell_type": "code",
   "execution_count": 23,
   "id": "0444334a",
   "metadata": {},
   "outputs": [],
   "source": [
    "train['asleep_hour'] = pd.to_datetime(train['Время засыпания'], format='%H:%M:%S').dt.hour\n",
    "train['asleep_hour'] = train['asleep_hour'].replace(0, 24)\n",
    "\n",
    "test['asleep_hour'] = pd.to_datetime(test['Время засыпания'], format='%H:%M:%S').dt.hour\n",
    "test['asleep_hour'] = test['asleep_hour'].replace(0, 24)"
   ]
  },
  {
   "cell_type": "code",
   "execution_count": 24,
   "id": "34a335b8",
   "metadata": {},
   "outputs": [],
   "source": [
    "train['dream'] =  24 + train['wake_hour'] - train['asleep_hour']\n",
    "train['dream'] = train['dream'].apply(lambda x: x-24 if x >= 24 else x)\n",
    "\n",
    "test['dream'] =  24 + test['wake_hour'] - test['asleep_hour']\n",
    "test['dream'] = test['dream'].apply(lambda x: x-24 if x >= 24 else x)"
   ]
  },
  {
   "cell_type": "markdown",
   "id": "6535f5c3",
   "metadata": {},
   "source": [
    "Обработаем редкие значения, которые встречаются только в тесте"
   ]
  },
  {
   "cell_type": "code",
   "execution_count": 25,
   "id": "9643aaea",
   "metadata": {},
   "outputs": [],
   "source": [
    "test['Статус Курения'] = test['Статус Курения'].apply(lambda x: 'Никогда не курил(а)' if x == 'Никогда не курил' else x)\n",
    "test['Религия'] = test['Религия'].apply(lambda x: 'Ислам' if x == 'Другое' or x == 'Индуизм' else x)"
   ]
  },
  {
   "cell_type": "markdown",
   "id": "8f035b28",
   "metadata": {},
   "source": [
    "Рассчитаем, соклько человек выкурил сигарет в жизни"
   ]
  },
  {
   "cell_type": "code",
   "execution_count": 26,
   "id": "c22c24dc",
   "metadata": {},
   "outputs": [],
   "source": [
    "train['cigs_in_life'] = train['Сигарет в день'] * train['Возраст курения'] * 365\n",
    "test['cigs_in_life'] = test['Сигарет в день'] * test['Возраст курения'] * 365"
   ]
  },
  {
   "cell_type": "code",
   "execution_count": 27,
   "id": "c15b3ed1",
   "metadata": {},
   "outputs": [
    {
     "data": {
      "text/plain": [
       "Никогда не курил(а)    543\n",
       "Курит                  221\n",
       "Бросил(а)              191\n",
       "Name: Статус Курения, dtype: int64"
      ]
     },
     "execution_count": 27,
     "metadata": {},
     "output_type": "execute_result"
    }
   ],
   "source": [
    "train['Статус Курения'].value_counts()"
   ]
  },
  {
   "cell_type": "code",
   "execution_count": 28,
   "id": "33b4734f",
   "metadata": {},
   "outputs": [],
   "source": [
    "def s_status(smoke):\n",
    "    \n",
    "    if smoke == 'Никогда не курил(а)':\n",
    "        return 'Никогда'\n",
    "    elif smoke == 'Бросил(а)':\n",
    "        return 'Бросил'\n",
    "    else:\n",
    "        return 'Курит'"
   ]
  },
  {
   "cell_type": "code",
   "execution_count": 29,
   "id": "5872eb6e",
   "metadata": {},
   "outputs": [],
   "source": [
    "test['Статус Курения'] = test['Статус Курения'].apply(s_status)\n",
    "train['Статус Курения'] = train['Статус Курения'].apply(s_status)"
   ]
  },
  {
   "cell_type": "code",
   "execution_count": 30,
   "id": "0de1def3",
   "metadata": {},
   "outputs": [
    {
     "data": {
      "text/plain": [
       "Никогда    543\n",
       "Курит      221\n",
       "Бросил     191\n",
       "Name: Статус Курения, dtype: int64"
      ]
     },
     "execution_count": 30,
     "metadata": {},
     "output_type": "execute_result"
    }
   ],
   "source": [
    "train['Статус Курения'].value_counts()"
   ]
  },
  {
   "cell_type": "markdown",
   "id": "94534abb",
   "metadata": {},
   "source": [
    "Заполним пропуски в пассивном курении"
   ]
  },
  {
   "cell_type": "code",
   "execution_count": 31,
   "id": "e4261ffa",
   "metadata": {},
   "outputs": [],
   "source": [
    "train.loc[[175, 247], 'Пассивное курение'] = 0\n",
    "train.loc[392, 'Пассивное курение'] = 1"
   ]
  },
  {
   "cell_type": "markdown",
   "id": "01d371fc",
   "metadata": {},
   "source": [
    "Создадим единый признак, характеризующий статус человека на пенсии и на работе"
   ]
  },
  {
   "cell_type": "code",
   "execution_count": 32,
   "id": "e1f24399",
   "metadata": {},
   "outputs": [],
   "source": [
    "def work_or_pension(row):\n",
    "    \n",
    "    work = row['Вы работаете?']\n",
    "    pension = row['Выход на пенсию']\n",
    "    \n",
    "    if work == 1 and pension == 1:\n",
    "        return 'работающий пенсионер'\n",
    "    elif work == 1 and pension == 0:\n",
    "        return 'работающий непенсионер'\n",
    "    elif work == 0 and pension == 1:\n",
    "        return 'неработающий пенсионер'\n",
    "    elif work == 0 and pension == 0:\n",
    "        return 'неработающий непенсионер'"
   ]
  },
  {
   "cell_type": "code",
   "execution_count": 33,
   "id": "9c5fa656",
   "metadata": {},
   "outputs": [],
   "source": [
    "train['work_status'] = train.apply(work_or_pension, axis=1)\n",
    "test['work_status'] = test.apply(work_or_pension, axis=1)"
   ]
  },
  {
   "cell_type": "markdown",
   "id": "5c70e019",
   "metadata": {},
   "source": [
    "Создадим признак суммарных лет вредных привычек"
   ]
  },
  {
   "cell_type": "code",
   "execution_count": 34,
   "id": "8a1cf133",
   "metadata": {},
   "outputs": [],
   "source": [
    "train['bad_habits_age'] = train['Возраст курения'] + train['Возраст алког']\n",
    "test['bad_habits_age'] = test['Возраст курения'] + test['Возраст алког']"
   ]
  },
  {
   "cell_type": "markdown",
   "id": "b9c0b978",
   "metadata": {},
   "source": [
    "Посчитаем, соклько всего вредных привычек (включая пассивное курение)"
   ]
  },
  {
   "cell_type": "code",
   "execution_count": 35,
   "id": "06d73bac",
   "metadata": {},
   "outputs": [],
   "source": [
    "def bad_habits(row):\n",
    "    \n",
    "    smoke = row['Статус Курения']\n",
    "    alco = row['Алкоголь']\n",
    "    passive = row['Пассивное курение']\n",
    "    \n",
    "    count = 0\n",
    "    \n",
    "    if smoke == 'Курит':\n",
    "        count += 1\n",
    "    \n",
    "    if alco == 'употребляю в настоящее время':\n",
    "        count += 1\n",
    "        \n",
    "    if passive == 1:\n",
    "        count += 1\n",
    "        \n",
    "    return min(count, 2)"
   ]
  },
  {
   "cell_type": "code",
   "execution_count": 36,
   "id": "ca4e29a1",
   "metadata": {},
   "outputs": [],
   "source": [
    "train['bad_habits'] = train.apply(bad_habits, axis=1)\n",
    "test['bad_habits'] = test.apply(bad_habits, axis=1)"
   ]
  },
  {
   "cell_type": "markdown",
   "id": "9b7b04c8",
   "metadata": {},
   "source": [
    "Создадим признак гиподинамичности - если есть пассивные черты - штрафуем, если занимается спортом - то снимаем штраф"
   ]
  },
  {
   "cell_type": "code",
   "execution_count": 37,
   "id": "7ad33f3f",
   "metadata": {},
   "outputs": [],
   "source": [
    "def hypodynamic(row):\n",
    "    \n",
    "    work_status = row['work_status']\n",
    "    clubs = row['Спорт, клубы']\n",
    "    nap = row['Сон после обеда']\n",
    "    injuries = row['Травмы за год']\n",
    "    \n",
    "    count = 0\n",
    "    \n",
    "    if work_status in ['неработающий пенсионер', 'не работающий не пенсионер']:\n",
    "        count += 1\n",
    "    if nap == 1:\n",
    "        count += 1\n",
    "    if injuries == 1:\n",
    "        count += 1\n",
    "    if clubs == 1:\n",
    "        count -= 1\n",
    "        \n",
    "    return min(count, 2)"
   ]
  },
  {
   "cell_type": "code",
   "execution_count": 38,
   "id": "e4ca3e5e",
   "metadata": {},
   "outputs": [],
   "source": [
    "train['hypodynamic'] = train.apply(hypodynamic, axis=1)\n",
    "test['hypodynamic'] = test.apply(hypodynamic, axis=1)"
   ]
  },
  {
   "cell_type": "markdown",
   "id": "33ebd143",
   "metadata": {},
   "source": [
    "Также создадим признак того, смешивает ли человек лекарства с алкоголем"
   ]
  },
  {
   "cell_type": "code",
   "execution_count": 39,
   "id": "484e5929",
   "metadata": {},
   "outputs": [],
   "source": [
    "def mixin_meds(row):\n",
    "    \n",
    "    alco = row['Алкоголь']\n",
    "    meds = row['Регулярный прим лекарственных средств']\n",
    "    \n",
    "    if alco == 'употребляю в настоящее время' and meds == 1:\n",
    "        return 1\n",
    "    else:\n",
    "        return 0"
   ]
  },
  {
   "cell_type": "code",
   "execution_count": 40,
   "id": "9f7da890",
   "metadata": {},
   "outputs": [],
   "source": [
    "train['mixin_meds'] = train.apply(mixin_meds, axis=1)\n",
    "test['mixin_meds'] = test.apply(mixin_meds, axis=1)"
   ]
  },
  {
   "cell_type": "markdown",
   "id": "524758ce",
   "metadata": {},
   "source": [
    "# Подготовка обучающей и тестовой выборки"
   ]
  },
  {
   "cell_type": "markdown",
   "id": "ab5a4a28",
   "metadata": {},
   "source": [
    "Выделим целевые переменные в отдельную переменную"
   ]
  },
  {
   "cell_type": "code",
   "execution_count": 41,
   "id": "fd895c7c",
   "metadata": {},
   "outputs": [],
   "source": [
    "y_s = ['Артериальная гипертензия', 'Стенокардия, ИБС, инфаркт миокарда',  'Сердечная недостаточность', 'ОНМК', \n",
    "        'Прочие заболевания сердца']"
   ]
  },
  {
   "cell_type": "markdown",
   "id": "c80b90b2",
   "metadata": {},
   "source": [
    "Поскольку у нас есть повторяющиеся по смыслу признаки, отбросим ненужное\n",
    "\n",
    "'ВИЧ/СПИД' - слишком редкий случай\n",
    "\n",
    "'Время засыпания', 'Время пробуждения' - трансформировали в час\n",
    "\n",
    "'Этнос' - похож на Национальность\n",
    "\n",
    "'Вы работаете?', 'Выход на пенсию' - объединено в work_status\n",
    "\n",
    "'Возраст курения', 'Возраст алког' - объединено в bad_habits_age\n",
    "\n",
    "'Регулярный прим лекарственных средств' - в non-treat-serious"
   ]
  },
  {
   "cell_type": "code",
   "execution_count": 42,
   "id": "85228796",
   "metadata": {},
   "outputs": [],
   "source": [
    "X_train = train.drop(columns=y_s + ['summ', 'ID', 'ВИЧ/СПИД', 'Время засыпания', 'Время пробуждения', 'Этнос',\n",
    "                'Вы работаете?', 'Выход на пенсию', 'Регулярный прим лекарственных средств','Возраст курения', 'Возраст алког'])\n",
    "test = test.drop(columns=['ID'])"
   ]
  },
  {
   "cell_type": "code",
   "execution_count": 43,
   "id": "69fcdc2e",
   "metadata": {},
   "outputs": [],
   "source": [
    "chain_chosen = X_train.columns"
   ]
  },
  {
   "cell_type": "markdown",
   "id": "2138a099",
   "metadata": {},
   "source": [
    "Выделим количественные и категориальные признаки"
   ]
  },
  {
   "cell_type": "code",
   "execution_count": 44,
   "id": "568ed30f",
   "metadata": {},
   "outputs": [],
   "source": [
    "numerical = ['Сигарет в день', 'dream', 'bad_habits_age', 'cigs_in_life']\n",
    "categorical = list(set(X_train.columns) - set(numerical))"
   ]
  },
  {
   "cell_type": "markdown",
   "id": "11eb00d3",
   "metadata": {},
   "source": [
    "Проведем порядковое кодирование для категориальных переменных и отмасштабируем количественные переменные"
   ]
  },
  {
   "cell_type": "code",
   "execution_count": 45,
   "id": "2ee7d4fc",
   "metadata": {},
   "outputs": [],
   "source": [
    "encoder = OrdinalEncoder(handle_unknown='use_encoded_value', unknown_value=999)\n",
    "X_train[categorical] = pd.DataFrame(encoder.fit_transform(X_train[categorical]),\n",
    "                                       columns=X_train[categorical].columns)\n",
    "\n",
    "scaler = StandardScaler()\n",
    "X_train[numerical] = pd.DataFrame(scaler.fit_transform(X_train[numerical]),\n",
    "                                       columns=X_train[numerical].columns)"
   ]
  },
  {
   "cell_type": "markdown",
   "id": "6ea42725",
   "metadata": {},
   "source": [
    "# Обучение модели"
   ]
  },
  {
   "cell_type": "markdown",
   "id": "95524dc9",
   "metadata": {},
   "source": [
    "Поскольку прогнозируемые сердечно-сосудистые заболевания в достаточной степени влияют друг на друга - так артериальная гипертензия способствует, в частности, развитию сердечной недостаточности. Поэтому было принято решение использовать инструмент ChainClassifier - цепочку классификаторлв, который делает предсказания сначала для первой переменной, потом предсказанную первую пременную использует для обучения к предсказанию второй, предсказанную первую и вторую - использует для предсказания третьей и так далее.\n",
    "\n",
    "В качестве базового классификатора будем использовать случайный лес, размер=200, максимальная глубина - 2, вес классов - \"сбалансированный в подвыборке\".\n",
    "\n",
    "Обучать цепочку классификаторов будем на стратифицированной кросс-валидации с пятью разбиениями (внутренний цикл). Кроме того, у нас пять целевых переменных, поэтому проходить по всей выборке мы будем пять раз (внешний цикл): в первой итерации будем стратифицировать по артериальной гипертензии, и обучать пять цепочек на всей обучающей выборке, затем на второй итерации внешнего цикла стратифицируем выборку по стенокардии и обучим еще пять цепочек, и т.д. Всего у нас получится 25 цепочек классификаторов.\n",
    "\n",
    "Порядок предсказания следующий:\n",
    "\n",
    "арт.гипертензия -> стенокардия -> серд. недостаточность -> ОНМК -> Прочие\n",
    "\n",
    "Гипертензия стоит на первом месте, поскольку является причиной многих более серьезных заболеваний. Также цели расположены в порядке убывания заболевших в обучающей выборке. Прочие поставлены на последнее место как наименее характерная цель.\n",
    "\n",
    "Гиперпараметры случайного леса и набор обучающих признаков отобраны в ходе экспериментов, которые не вошли в итоговый код.\n",
    "\n",
    "Каждым мы сделаем предсказания вероятностей для каждой болезни на тестовой выборке и усредним их."
   ]
  },
  {
   "cell_type": "code",
   "execution_count": 46,
   "id": "4769a4e3",
   "metadata": {},
   "outputs": [
    {
     "name": "stdout",
     "output_type": "stream",
     "text": [
      "CPU times: user 1min 45s, sys: 902 ms, total: 1min 46s\n",
      "Wall time: 1min 47s\n"
     ]
    }
   ],
   "source": [
    "%%time\n",
    "\n",
    "n_splits = 5\n",
    "\n",
    "# массив для хранения обученных цепочек классификаторов\n",
    "chains = []\n",
    "\n",
    "# готовим признаки и целевые переменные\n",
    "X = X_train.copy()\n",
    "target = train[y_s]\n",
    "\n",
    "kFold_random_state = [42]\n",
    "random_state=42\n",
    "N = len(kFold_random_state)*n_splits\n",
    "\n",
    "# создадим словарь для хранения оценок для каждой целевой переменной\n",
    "scores = {k:[] for k in y_s}\n",
    "\n",
    "# определим стратегию кросс-валидации\n",
    "kf = StratifiedKFold(n_splits=n_splits, shuffle=True, random_state=random_state)\n",
    "\n",
    "# порядок предсказания переменных: арт.гипертензия -> стенокардия -> серд. недостаточность -> ОНМК -> Прочие\n",
    "order = [0, 1, 2, 3, 4]\n",
    "\n",
    "# итерируем по каждой целевой переменной в 5 переменных\n",
    "for subtarget in target:\n",
    "    y = train[subtarget]\n",
    "    \n",
    "    # итерируем по частям стратифицированной выборки\n",
    "    for train_index, test_index in kf.split(X, y):\n",
    "            Xtrain, Xtest = X.iloc[train_index], X.iloc[test_index]\n",
    "            y_train, y_test = target.iloc[train_index], target.iloc[test_index]\n",
    "            \n",
    "            # инициализируем базовую модель\n",
    "            base_model = RandomForestClassifier(random_state=2, n_estimators=200, class_weight='balanced_subsample', \n",
    "                                         max_depth=2, min_samples_leaf=9, bootstrap=False)\n",
    "            \n",
    "            # инициализируем цепочку классификаторов\n",
    "            chain = ClassifierChain(base_model, order=order, random_state=2, cv=5)\n",
    "            chains.append(chain)\n",
    "            \n",
    "            # обучаем цепочку\n",
    "            chain.fit(Xtrain, y_train)\n",
    "            \n",
    "            # предсказываем классы для тестовой части на кросс-валидации\n",
    "            y_test_pred = pd.DataFrame(chain.predict(Xtest), columns=y_s)\n",
    "            \n",
    "            for t in y_s:\n",
    "                # для каждой целевой переменной рассчитываем recall_macro на тестовой части\n",
    "                scores[t].append(recall_score(y_test[t], y_test_pred[t], average='macro'))"
   ]
  },
  {
   "cell_type": "markdown",
   "id": "e350e42e",
   "metadata": {},
   "source": [
    "Проанализируем полученные оценки точности на кросс-валидации:"
   ]
  },
  {
   "cell_type": "code",
   "execution_count": 47,
   "id": "93593936",
   "metadata": {},
   "outputs": [
    {
     "data": {
      "text/html": [
       "<div>\n",
       "<style scoped>\n",
       "    .dataframe tbody tr th:only-of-type {\n",
       "        vertical-align: middle;\n",
       "    }\n",
       "\n",
       "    .dataframe tbody tr th {\n",
       "        vertical-align: top;\n",
       "    }\n",
       "\n",
       "    .dataframe thead th {\n",
       "        text-align: right;\n",
       "    }\n",
       "</style>\n",
       "<table border=\"1\" class=\"dataframe\">\n",
       "  <thead>\n",
       "    <tr style=\"text-align: right;\">\n",
       "      <th></th>\n",
       "      <th>Артериальная гипертензия</th>\n",
       "      <th>Стенокардия, ИБС, инфаркт миокарда</th>\n",
       "      <th>Сердечная недостаточность</th>\n",
       "      <th>ОНМК</th>\n",
       "      <th>Прочие заболевания сердца</th>\n",
       "      <th>avg</th>\n",
       "    </tr>\n",
       "  </thead>\n",
       "  <tbody>\n",
       "    <tr>\n",
       "      <th>count</th>\n",
       "      <td>25.000000</td>\n",
       "      <td>25.000000</td>\n",
       "      <td>25.000000</td>\n",
       "      <td>25.000000</td>\n",
       "      <td>25.000000</td>\n",
       "      <td>25.000000</td>\n",
       "    </tr>\n",
       "    <tr>\n",
       "      <th>mean</th>\n",
       "      <td>0.720658</td>\n",
       "      <td>0.691832</td>\n",
       "      <td>0.678135</td>\n",
       "      <td>0.635700</td>\n",
       "      <td>0.567262</td>\n",
       "      <td>0.658717</td>\n",
       "    </tr>\n",
       "    <tr>\n",
       "      <th>std</th>\n",
       "      <td>0.026760</td>\n",
       "      <td>0.038898</td>\n",
       "      <td>0.045296</td>\n",
       "      <td>0.080404</td>\n",
       "      <td>0.049307</td>\n",
       "      <td>0.023908</td>\n",
       "    </tr>\n",
       "    <tr>\n",
       "      <th>min</th>\n",
       "      <td>0.659846</td>\n",
       "      <td>0.632610</td>\n",
       "      <td>0.594203</td>\n",
       "      <td>0.467956</td>\n",
       "      <td>0.440838</td>\n",
       "      <td>0.616712</td>\n",
       "    </tr>\n",
       "    <tr>\n",
       "      <th>25%</th>\n",
       "      <td>0.705892</td>\n",
       "      <td>0.661550</td>\n",
       "      <td>0.646607</td>\n",
       "      <td>0.576243</td>\n",
       "      <td>0.545441</td>\n",
       "      <td>0.642046</td>\n",
       "    </tr>\n",
       "    <tr>\n",
       "      <th>50%</th>\n",
       "      <td>0.723232</td>\n",
       "      <td>0.683133</td>\n",
       "      <td>0.675181</td>\n",
       "      <td>0.637295</td>\n",
       "      <td>0.572143</td>\n",
       "      <td>0.659764</td>\n",
       "    </tr>\n",
       "    <tr>\n",
       "      <th>75%</th>\n",
       "      <td>0.735184</td>\n",
       "      <td>0.722409</td>\n",
       "      <td>0.708843</td>\n",
       "      <td>0.685859</td>\n",
       "      <td>0.605303</td>\n",
       "      <td>0.677260</td>\n",
       "    </tr>\n",
       "    <tr>\n",
       "      <th>max</th>\n",
       "      <td>0.764596</td>\n",
       "      <td>0.766550</td>\n",
       "      <td>0.787675</td>\n",
       "      <td>0.776882</td>\n",
       "      <td>0.648929</td>\n",
       "      <td>0.711659</td>\n",
       "    </tr>\n",
       "  </tbody>\n",
       "</table>\n",
       "</div>"
      ],
      "text/plain": [
       "       Артериальная гипертензия  Стенокардия, ИБС, инфаркт миокарда  \\\n",
       "count                 25.000000                           25.000000   \n",
       "mean                   0.720658                            0.691832   \n",
       "std                    0.026760                            0.038898   \n",
       "min                    0.659846                            0.632610   \n",
       "25%                    0.705892                            0.661550   \n",
       "50%                    0.723232                            0.683133   \n",
       "75%                    0.735184                            0.722409   \n",
       "max                    0.764596                            0.766550   \n",
       "\n",
       "       Сердечная недостаточность       ОНМК  Прочие заболевания сердца  \\\n",
       "count                  25.000000  25.000000                  25.000000   \n",
       "mean                    0.678135   0.635700                   0.567262   \n",
       "std                     0.045296   0.080404                   0.049307   \n",
       "min                     0.594203   0.467956                   0.440838   \n",
       "25%                     0.646607   0.576243                   0.545441   \n",
       "50%                     0.675181   0.637295                   0.572143   \n",
       "75%                     0.708843   0.685859                   0.605303   \n",
       "max                     0.787675   0.776882                   0.648929   \n",
       "\n",
       "             avg  \n",
       "count  25.000000  \n",
       "mean    0.658717  \n",
       "std     0.023908  \n",
       "min     0.616712  \n",
       "25%     0.642046  \n",
       "50%     0.659764  \n",
       "75%     0.677260  \n",
       "max     0.711659  "
      ]
     },
     "execution_count": 47,
     "metadata": {},
     "output_type": "execute_result"
    }
   ],
   "source": [
    "sc = pd.DataFrame(scores)\n",
    "sc['avg'] = sc.sum(axis='columns')/5\n",
    "sc.describe()"
   ]
  },
  {
   "cell_type": "markdown",
   "id": "7ba78797",
   "metadata": {},
   "source": [
    "Видно, что recall по целевым переменным достаточно высокий у первых трех.\n",
    "\n",
    "Средний recall по всем классификаторам - 0.658 со стандартным отклонением 0.024\n",
    "\n",
    "Итоговые гиперпарамтеры леса и набор признаков выбирались исходя из этой оценки.\n",
    "\n",
    "С учетом того, что обучающих данных мало, принято решение использовать подход усреднение предсказаний различных моделей, чтобы получить устойчивые оценки"
   ]
  },
  {
   "cell_type": "markdown",
   "id": "1e81ff24",
   "metadata": {},
   "source": [
    "# Предсказания для тестовой выборки"
   ]
  },
  {
   "cell_type": "code",
   "execution_count": 48,
   "id": "9ff51e81",
   "metadata": {},
   "outputs": [],
   "source": [
    "X_test = test.copy()\n",
    "X_test[categorical] = pd.DataFrame(encoder.transform(test[categorical]),\n",
    "                                   columns=test[categorical].columns)\n",
    "\n",
    "X_test[numerical] = pd.DataFrame(scaler.transform(test[numerical]),\n",
    "                                   columns=test[numerical].columns)\n",
    "\n",
    "test_data = X_test[chain_chosen] \n",
    "\n",
    "# массив для записи финального результата\n",
    "y_pred = np.zeros((len(test_data),))"
   ]
  },
  {
   "cell_type": "markdown",
   "id": "b81bdf12",
   "metadata": {},
   "source": [
    "Прочитаем файл образца сабмита"
   ]
  },
  {
   "cell_type": "code",
   "execution_count": 49,
   "id": "b5252551",
   "metadata": {},
   "outputs": [],
   "source": [
    "ss = pd.read_csv('sample_solution.csv')\n",
    "from datetime import datetime\n",
    "nownow = datetime.now().strftime('%Y_%m_%d_%H:%M:%S')"
   ]
  },
  {
   "cell_type": "markdown",
   "id": "4c8af0d8",
   "metadata": {},
   "source": [
    "Предскажем вероятности каждой цепочкой классификаторов"
   ]
  },
  {
   "cell_type": "code",
   "execution_count": 50,
   "id": "7b8e0d7f",
   "metadata": {},
   "outputs": [],
   "source": [
    "%%time\n",
    "for col in ss[y_s].columns:\n",
    "    for chain in chains:\n",
    "        all_predict = pd.DataFrame(chain.predict_proba(test_data), columns=y_s)\n",
    "        ss[col] += all_predict[col]"
   ]
  },
  {
   "cell_type": "markdown",
   "id": "bc2cdbfa",
   "metadata": {},
   "source": [
    "Усредним предсказания"
   ]
  },
  {
   "cell_type": "code",
   "execution_count": 51,
   "id": "6cc0cca8",
   "metadata": {},
   "outputs": [],
   "source": [
    "for col in ss[y_s].columns:\n",
    "    ss[col] /= 25"
   ]
  },
  {
   "cell_type": "markdown",
   "id": "5d7e21bd",
   "metadata": {},
   "source": [
    "Порог оставим на значении 0.5,  предскажем наличие диагноза у тех, у кого вероятность выше 0.5 и отсутсвие в противоположном случае."
   ]
  },
  {
   "cell_type": "code",
   "execution_count": 52,
   "id": "04f6d809",
   "metadata": {},
   "outputs": [],
   "source": [
    "ss[y_s] = ss[y_s].applymap(lambda x: 1 if x > 0.5 else 0)"
   ]
  },
  {
   "cell_type": "code",
   "execution_count": 53,
   "id": "6ad946fc",
   "metadata": {},
   "outputs": [],
   "source": [
    "ss.to_csv(nownow + '.csv', index=False)"
   ]
  }
 ],
 "metadata": {
  "kernelspec": {
   "display_name": "Python 3 (ipykernel)",
   "language": "python",
   "name": "python3"
  },
  "language_info": {
   "codemirror_mode": {
    "name": "ipython",
    "version": 3
   },
   "file_extension": ".py",
   "mimetype": "text/x-python",
   "name": "python",
   "nbconvert_exporter": "python",
   "pygments_lexer": "ipython3",
   "version": "3.8.13"
  }
 },
 "nbformat": 4,
 "nbformat_minor": 5
}
